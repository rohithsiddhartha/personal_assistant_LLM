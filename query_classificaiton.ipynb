{
 "cells": [
  {
   "cell_type": "code",
   "execution_count": 1,
   "metadata": {},
   "outputs": [
    {
     "name": "stderr",
     "output_type": "stream",
     "text": [
      "/Users/rohithsiddharthareddy/Desktop/TakeHomeAssignments/personal_assistant_LLM/.venv/lib/python3.12/site-packages/tqdm/auto.py:21: TqdmWarning: IProgress not found. Please update jupyter and ipywidgets. See https://ipywidgets.readthedocs.io/en/stable/user_install.html\n",
      "  from .autonotebook import tqdm as notebook_tqdm\n"
     ]
    }
   ],
   "source": [
    "from transformers import pipeline\n",
    "import torch"
   ]
  },
  {
   "cell_type": "code",
   "execution_count": 2,
   "metadata": {},
   "outputs": [],
   "source": [
    "device = \"mps\" if torch.backends.mps.is_available() else \"cpu\"\n"
   ]
  },
  {
   "cell_type": "code",
   "execution_count": 3,
   "metadata": {},
   "outputs": [],
   "source": [
    "classifier = pipeline(\"zero-shot-classification\", model=\"facebook/bart-large-mnli\", device=0 if device=='mps' else -1)\n"
   ]
  },
  {
   "cell_type": "code",
   "execution_count": 4,
   "metadata": {},
   "outputs": [],
   "source": [
    "def classify_text(text):\n",
    "    labels = ['save', 'retrieve', 'update', 'delete']\n",
    "    result = classifier(text, labels)\n",
    "    classification = result['labels']  # The most probable label\n",
    "    return classification"
   ]
  },
  {
   "cell_type": "code",
   "execution_count": 5,
   "metadata": {},
   "outputs": [
    {
     "name": "stdout",
     "output_type": "stream",
     "text": [
      "Text: I placed my keys on desk\n",
      "Classification: ['retrieve', 'save', 'update', 'delete']\n",
      "\n",
      "Text: Where did I leave my keys?\n",
      "Classification: ['retrieve', 'save', 'update', 'delete']\n",
      "\n",
      "Text: Please change my attire preferences for the upcoming week\n",
      "Classification: ['update', 'save', 'retrieve', 'delete']\n",
      "\n",
      "Text: I don't want to eat chicken anymore\n",
      "Classification: ['update', 'save', 'delete', 'retrieve']\n",
      "\n"
     ]
    }
   ],
   "source": [
    "texts = [\n",
    "    \"I placed my keys on desk\",\n",
    "    \"Where did I leave my keys?\",\n",
    "    \"Please change my attire preferences for the upcoming week\",\n",
    "    \"I don't want to eat chicken anymore\"\n",
    "]\n",
    "\n",
    "# Classify each text\n",
    "for text in texts:\n",
    "    classification = classify_text(text)\n",
    "    print(f\"Text: {text}\\nClassification: {classification}\\n\")\n"
   ]
  },
  {
   "cell_type": "code",
   "execution_count": 6,
   "metadata": {},
   "outputs": [
    {
     "name": "stdout",
     "output_type": "stream",
     "text": [
      "Unknown classification.\n"
     ]
    }
   ],
   "source": [
    "\n",
    "# Further actions based on classification\n",
    "def take_action_based_on_classification(text):\n",
    "    classification = classify_text(text)\n",
    "    if classification == \"question\":\n",
    "        print(\"Taking action: Answering the question.\")\n",
    "        # Add code to handle the question\n",
    "    elif classification == \"update\":\n",
    "        print(\"Taking action: Logging the update.\")\n",
    "        # Add code to handle the update\n",
    "    elif classification == \"delete\":\n",
    "        print(\"Taking action: Processing the delete request.\")\n",
    "        # Add code to handle the delete request\n",
    "    else:\n",
    "        print(\"Unknown classification.\")\n",
    "\n",
    "# Example usage\n",
    "example_text = \"Can you update my email address to new@example.com?\"\n",
    "take_action_based_on_classification(example_text)"
   ]
  },
  {
   "cell_type": "code",
   "execution_count": null,
   "metadata": {},
   "outputs": [],
   "source": []
  },
  {
   "cell_type": "code",
   "execution_count": null,
   "metadata": {},
   "outputs": [],
   "source": []
  }
 ],
 "metadata": {
  "kernelspec": {
   "display_name": "mem0_env",
   "language": "python",
   "name": "python3"
  },
  "language_info": {
   "codemirror_mode": {
    "name": "ipython",
    "version": 3
   },
   "file_extension": ".py",
   "mimetype": "text/x-python",
   "name": "python",
   "nbconvert_exporter": "python",
   "pygments_lexer": "ipython3",
   "version": "3.12.4"
  }
 },
 "nbformat": 4,
 "nbformat_minor": 2
}
